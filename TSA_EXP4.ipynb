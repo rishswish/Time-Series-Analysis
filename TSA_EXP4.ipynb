{
  "nbformat": 4,
  "nbformat_minor": 0,
  "metadata": {
    "colab": {
      "provenance": []
    },
    "kernelspec": {
      "name": "python3",
      "display_name": "Python 3"
    },
    "language_info": {
      "name": "python"
    }
  },
  "cells": [
    {
      "cell_type": "markdown",
      "source": [
        "\n",
        "\n",
        "\n",
        "*   **Rishabh Patil**\n",
        "*   **SAP: 60009200056**\n",
        "*   **Div : K/K2**\n",
        "\n",
        "\n"
      ],
      "metadata": {
        "id": "0mWvEcVs4wlu"
      }
    },
    {
      "cell_type": "markdown",
      "source": [
        "**Single exponential smoothing**"
      ],
      "metadata": {
        "id": "gbgGLteT7H7E"
      }
    },
    {
      "cell_type": "code",
      "source": [
        "from statsmodels.tsa.api import SimpleExpSmoothing\n",
        "import pandas as pd\n",
        "import numpy as np\n",
        "from sklearn import metrics\n",
        "df = pd.read_csv(r'/content/temp (1).csv')\n",
        "df"
      ],
      "metadata": {
        "colab": {
          "base_uri": "https://localhost:8080/",
          "height": 424
        },
        "id": "5U48OGhm5HRU",
        "outputId": "765522a7-7f48-47e4-9bce-a6cf3a666678"
      },
      "execution_count": null,
      "outputs": [
        {
          "output_type": "execute_result",
          "data": {
            "text/plain": [
              "            Date  Temp\n",
              "0     1981-01-01  20.7\n",
              "1     1981-01-02  17.9\n",
              "2     1981-01-03  18.8\n",
              "3     1981-01-04  14.6\n",
              "4     1981-01-05  15.8\n",
              "...          ...   ...\n",
              "3645  1990-12-27  14.0\n",
              "3646  1990-12-28  13.6\n",
              "3647  1990-12-29  13.5\n",
              "3648  1990-12-30  15.7\n",
              "3649  1990-12-31  13.0\n",
              "\n",
              "[3650 rows x 2 columns]"
            ],
            "text/html": [
              "\n",
              "  <div id=\"df-848efdcb-6d38-46dd-887a-ffb40c463840\">\n",
              "    <div class=\"colab-df-container\">\n",
              "      <div>\n",
              "<style scoped>\n",
              "    .dataframe tbody tr th:only-of-type {\n",
              "        vertical-align: middle;\n",
              "    }\n",
              "\n",
              "    .dataframe tbody tr th {\n",
              "        vertical-align: top;\n",
              "    }\n",
              "\n",
              "    .dataframe thead th {\n",
              "        text-align: right;\n",
              "    }\n",
              "</style>\n",
              "<table border=\"1\" class=\"dataframe\">\n",
              "  <thead>\n",
              "    <tr style=\"text-align: right;\">\n",
              "      <th></th>\n",
              "      <th>Date</th>\n",
              "      <th>Temp</th>\n",
              "    </tr>\n",
              "  </thead>\n",
              "  <tbody>\n",
              "    <tr>\n",
              "      <th>0</th>\n",
              "      <td>1981-01-01</td>\n",
              "      <td>20.7</td>\n",
              "    </tr>\n",
              "    <tr>\n",
              "      <th>1</th>\n",
              "      <td>1981-01-02</td>\n",
              "      <td>17.9</td>\n",
              "    </tr>\n",
              "    <tr>\n",
              "      <th>2</th>\n",
              "      <td>1981-01-03</td>\n",
              "      <td>18.8</td>\n",
              "    </tr>\n",
              "    <tr>\n",
              "      <th>3</th>\n",
              "      <td>1981-01-04</td>\n",
              "      <td>14.6</td>\n",
              "    </tr>\n",
              "    <tr>\n",
              "      <th>4</th>\n",
              "      <td>1981-01-05</td>\n",
              "      <td>15.8</td>\n",
              "    </tr>\n",
              "    <tr>\n",
              "      <th>...</th>\n",
              "      <td>...</td>\n",
              "      <td>...</td>\n",
              "    </tr>\n",
              "    <tr>\n",
              "      <th>3645</th>\n",
              "      <td>1990-12-27</td>\n",
              "      <td>14.0</td>\n",
              "    </tr>\n",
              "    <tr>\n",
              "      <th>3646</th>\n",
              "      <td>1990-12-28</td>\n",
              "      <td>13.6</td>\n",
              "    </tr>\n",
              "    <tr>\n",
              "      <th>3647</th>\n",
              "      <td>1990-12-29</td>\n",
              "      <td>13.5</td>\n",
              "    </tr>\n",
              "    <tr>\n",
              "      <th>3648</th>\n",
              "      <td>1990-12-30</td>\n",
              "      <td>15.7</td>\n",
              "    </tr>\n",
              "    <tr>\n",
              "      <th>3649</th>\n",
              "      <td>1990-12-31</td>\n",
              "      <td>13.0</td>\n",
              "    </tr>\n",
              "  </tbody>\n",
              "</table>\n",
              "<p>3650 rows × 2 columns</p>\n",
              "</div>\n",
              "      <button class=\"colab-df-convert\" onclick=\"convertToInteractive('df-848efdcb-6d38-46dd-887a-ffb40c463840')\"\n",
              "              title=\"Convert this dataframe to an interactive table.\"\n",
              "              style=\"display:none;\">\n",
              "        \n",
              "  <svg xmlns=\"http://www.w3.org/2000/svg\" height=\"24px\"viewBox=\"0 0 24 24\"\n",
              "       width=\"24px\">\n",
              "    <path d=\"M0 0h24v24H0V0z\" fill=\"none\"/>\n",
              "    <path d=\"M18.56 5.44l.94 2.06.94-2.06 2.06-.94-2.06-.94-.94-2.06-.94 2.06-2.06.94zm-11 1L8.5 8.5l.94-2.06 2.06-.94-2.06-.94L8.5 2.5l-.94 2.06-2.06.94zm10 10l.94 2.06.94-2.06 2.06-.94-2.06-.94-.94-2.06-.94 2.06-2.06.94z\"/><path d=\"M17.41 7.96l-1.37-1.37c-.4-.4-.92-.59-1.43-.59-.52 0-1.04.2-1.43.59L10.3 9.45l-7.72 7.72c-.78.78-.78 2.05 0 2.83L4 21.41c.39.39.9.59 1.41.59.51 0 1.02-.2 1.41-.59l7.78-7.78 2.81-2.81c.8-.78.8-2.07 0-2.86zM5.41 20L4 18.59l7.72-7.72 1.47 1.35L5.41 20z\"/>\n",
              "  </svg>\n",
              "      </button>\n",
              "      \n",
              "  <style>\n",
              "    .colab-df-container {\n",
              "      display:flex;\n",
              "      flex-wrap:wrap;\n",
              "      gap: 12px;\n",
              "    }\n",
              "\n",
              "    .colab-df-convert {\n",
              "      background-color: #E8F0FE;\n",
              "      border: none;\n",
              "      border-radius: 50%;\n",
              "      cursor: pointer;\n",
              "      display: none;\n",
              "      fill: #1967D2;\n",
              "      height: 32px;\n",
              "      padding: 0 0 0 0;\n",
              "      width: 32px;\n",
              "    }\n",
              "\n",
              "    .colab-df-convert:hover {\n",
              "      background-color: #E2EBFA;\n",
              "      box-shadow: 0px 1px 2px rgba(60, 64, 67, 0.3), 0px 1px 3px 1px rgba(60, 64, 67, 0.15);\n",
              "      fill: #174EA6;\n",
              "    }\n",
              "\n",
              "    [theme=dark] .colab-df-convert {\n",
              "      background-color: #3B4455;\n",
              "      fill: #D2E3FC;\n",
              "    }\n",
              "\n",
              "    [theme=dark] .colab-df-convert:hover {\n",
              "      background-color: #434B5C;\n",
              "      box-shadow: 0px 1px 3px 1px rgba(0, 0, 0, 0.15);\n",
              "      filter: drop-shadow(0px 1px 2px rgba(0, 0, 0, 0.3));\n",
              "      fill: #FFFFFF;\n",
              "    }\n",
              "  </style>\n",
              "\n",
              "      <script>\n",
              "        const buttonEl =\n",
              "          document.querySelector('#df-848efdcb-6d38-46dd-887a-ffb40c463840 button.colab-df-convert');\n",
              "        buttonEl.style.display =\n",
              "          google.colab.kernel.accessAllowed ? 'block' : 'none';\n",
              "\n",
              "        async function convertToInteractive(key) {\n",
              "          const element = document.querySelector('#df-848efdcb-6d38-46dd-887a-ffb40c463840');\n",
              "          const dataTable =\n",
              "            await google.colab.kernel.invokeFunction('convertToInteractive',\n",
              "                                                     [key], {});\n",
              "          if (!dataTable) return;\n",
              "\n",
              "          const docLinkHtml = 'Like what you see? Visit the ' +\n",
              "            '<a target=\"_blank\" href=https://colab.research.google.com/notebooks/data_table.ipynb>data table notebook</a>'\n",
              "            + ' to learn more about interactive tables.';\n",
              "          element.innerHTML = '';\n",
              "          dataTable['output_type'] = 'display_data';\n",
              "          await google.colab.output.renderOutput(dataTable, element);\n",
              "          const docLink = document.createElement('div');\n",
              "          docLink.innerHTML = docLinkHtml;\n",
              "          element.appendChild(docLink);\n",
              "        }\n",
              "      </script>\n",
              "    </div>\n",
              "  </div>\n",
              "  "
            ]
          },
          "metadata": {},
          "execution_count": 3
        }
      ]
    },
    {
      "cell_type": "code",
      "source": [
        "X = df['Temp']\n",
        "test = X.iloc[-30:]\n",
        "train = X.iloc[:-30]"
      ],
      "metadata": {
        "id": "5Jt2Xj5V5T0-"
      },
      "execution_count": null,
      "outputs": []
    },
    {
      "cell_type": "code",
      "source": [
        "def timeseries_evaluation_metrics_func(y_true, y_pred):\n",
        "    def mean_absolute_percentage_error(y_true, y_pred): \n",
        "        y_true, y_pred = np.array(y_true), np.array(y_pred)\n",
        "        return np.mean(np.abs((y_true - y_pred) / y_true)) * 100\n",
        "    print('Evaluation metric results:-')\n",
        "    print(f'MSE is : {metrics.mean_squared_error(y_true, y_pred)}')\n",
        "    print(f'MAE is : {metrics.mean_absolute_error(y_true, y_pred)}')\n",
        "    print(f'RMSE is : {np.sqrt(metrics.mean_squared_error(y_true, y_pred))}')\n",
        "    print(f'MAPE is : {mean_absolute_percentage_error(y_true, y_pred)}')\n",
        "    print(f'R2 is : {metrics.r2_score(y_true, y_pred)}',end='\\n\\n')"
      ],
      "metadata": {
        "id": "AhCQkNzH5f_o"
      },
      "execution_count": null,
      "outputs": []
    },
    {
      "cell_type": "code",
      "source": [
        "resu = []\n",
        "temp_df = pd.DataFrame()\n",
        "#df2 = pd.DataFrame(columns=['smoothing parameter', 'RMSE'])\n",
        "for i in [0 , 0.10, 0.20, 0.30, 0.40, 0.50, 0.60, 0.70, 0.80, 0.90,1]:\n",
        "    print(f'Fitting for smoothing level= {i}')\n",
        "    fit_v = SimpleExpSmoothing(np.asarray(train)).fit(i)\n",
        "    fcst_pred_v= fit_v.forecast(30)\n",
        "    timeseries_evaluation_metrics_func(test,fcst_pred_v)\n",
        "    rmse = np.sqrt(metrics.mean_squared_error(test, fcst_pred_v))\n",
        "    df3 = {'smoothing parameter':i, 'RMSE': rmse}\n",
        "    temp_df = temp_df.append(df3, ignore_index=True)\n",
        "temp_df.sort_values(by=['RMSE'])"
      ],
      "metadata": {
        "id": "EItIhX2u5jRi",
        "colab": {
          "base_uri": "https://localhost:8080/",
          "height": 1000
        },
        "outputId": "334c7ec4-6c72-4ff4-af2d-25cb261ddff6"
      },
      "execution_count": null,
      "outputs": [
        {
          "output_type": "stream",
          "name": "stdout",
          "text": [
            "Fitting for smoothing level= 0\n",
            "Evaluation metric results:-\n",
            "MSE is : 16.796520806970165\n",
            "MAE is : 3.3425160911284317\n",
            "RMSE is : 4.098355866316414\n",
            "MAPE is : 21.28591519117068\n",
            "R2 is : -1.7008443184356778\n",
            "\n",
            "Fitting for smoothing level= 0.1\n",
            "Evaluation metric results:-\n",
            "MSE is : 9.950262797058107\n",
            "MAE is : 2.3574326371068692\n",
            "RMSE is : 3.1544037149765893\n",
            "MAPE is : 14.95888039906589\n",
            "R2 is : -0.5999807966911905\n",
            "\n",
            "Fitting for smoothing level= 0.2\n"
          ]
        },
        {
          "output_type": "stream",
          "name": "stderr",
          "text": [
            "/usr/local/lib/python3.7/dist-packages/statsmodels/tsa/holtwinters/model.py:429: FutureWarning: After 0.13 initialization must be handled at model creation\n",
            "  FutureWarning,\n",
            "/usr/local/lib/python3.7/dist-packages/statsmodels/tsa/holtwinters/model.py:429: FutureWarning: After 0.13 initialization must be handled at model creation\n",
            "  FutureWarning,\n",
            "/usr/local/lib/python3.7/dist-packages/statsmodels/tsa/holtwinters/model.py:429: FutureWarning: After 0.13 initialization must be handled at model creation\n",
            "  FutureWarning,\n"
          ]
        },
        {
          "output_type": "stream",
          "name": "stdout",
          "text": [
            "Evaluation metric results:-\n",
            "MSE is : 9.018038729764132\n",
            "MAE is : 2.1831351875348957\n",
            "RMSE is : 3.0030049500065985\n",
            "MAPE is : 13.871245263091836\n",
            "R2 is : -0.45008117732388064\n",
            "\n",
            "Fitting for smoothing level= 0.3\n",
            "Evaluation metric results:-\n",
            "MSE is : 8.173242727557815\n",
            "MAE is : 2.007126911928375\n",
            "RMSE is : 2.8588883726997483\n",
            "MAPE is : 12.787611735921145\n",
            "R2 is : -0.314239802254749\n",
            "\n",
            "Fitting for smoothing level= 0.4\n",
            "Evaluation metric results:-\n",
            "MSE is : 7.739324683784194\n",
            "MAE is : 1.9238532998579767\n",
            "RMSE is : 2.78196417730067\n",
            "MAPE is : 12.309216109428109\n",
            "R2 is : -0.24446671670560494\n",
            "\n",
            "Fitting for smoothing level= 0.5\n",
            "Evaluation metric results:-\n",
            "MSE is : 7.556026895529924\n",
            "MAE is : 1.8943234209636244\n",
            "RMSE is : 2.7488228199594684\n",
            "MAPE is : 12.156593183522864\n",
            "R2 is : -0.21499282769741623\n",
            "\n",
            "Fitting for smoothing level= 0.6\n",
            "Evaluation metric results:-\n",
            "MSE is : 7.507205486580531\n",
            "MAE is : 1.8872209884010678\n",
            "RMSE is : 2.73992800755431\n",
            "MAPE is : 12.122531275655136\n",
            "R2 is : -0.20714245043808077\n",
            "\n",
            "Fitting for smoothing level= 0.7\n",
            "Evaluation metric results:-\n",
            "MSE is : 7.522018583841234\n",
            "MAE is : 1.8893899759003814\n",
            "RMSE is : 2.7426298663584254\n",
            "MAPE is : 12.132933324772411\n",
            "R2 is : -0.20952436452819412\n",
            "\n",
            "Fitting for smoothing level= 0.8\n",
            "Evaluation metric results:-\n",
            "MSE is : 7.544894532127653\n",
            "MAE is : 1.8927154763587408\n",
            "RMSE is : 2.7467971406945315\n",
            "MAPE is : 12.148881788799217\n",
            "R2 is : -0.21320276767300284\n",
            "\n",
            "Fitting for smoothing level= 0.9\n"
          ]
        },
        {
          "output_type": "stream",
          "name": "stderr",
          "text": [
            "/usr/local/lib/python3.7/dist-packages/statsmodels/tsa/holtwinters/model.py:429: FutureWarning: After 0.13 initialization must be handled at model creation\n",
            "  FutureWarning,\n",
            "/usr/local/lib/python3.7/dist-packages/statsmodels/tsa/holtwinters/model.py:429: FutureWarning: After 0.13 initialization must be handled at model creation\n",
            "  FutureWarning,\n",
            "/usr/local/lib/python3.7/dist-packages/statsmodels/tsa/holtwinters/model.py:429: FutureWarning: After 0.13 initialization must be handled at model creation\n",
            "  FutureWarning,\n",
            "/usr/local/lib/python3.7/dist-packages/statsmodels/tsa/holtwinters/model.py:429: FutureWarning: After 0.13 initialization must be handled at model creation\n",
            "  FutureWarning,\n",
            "/usr/local/lib/python3.7/dist-packages/statsmodels/tsa/holtwinters/model.py:429: FutureWarning: After 0.13 initialization must be handled at model creation\n",
            "  FutureWarning,\n",
            "/usr/local/lib/python3.7/dist-packages/statsmodels/tsa/holtwinters/model.py:429: FutureWarning: After 0.13 initialization must be handled at model creation\n",
            "  FutureWarning,\n",
            "/usr/local/lib/python3.7/dist-packages/statsmodels/tsa/holtwinters/model.py:429: FutureWarning: After 0.13 initialization must be handled at model creation\n",
            "  FutureWarning,\n"
          ]
        },
        {
          "output_type": "stream",
          "name": "stdout",
          "text": [
            "Evaluation metric results:-\n",
            "MSE is : 7.527455896646113\n",
            "MAE is : 1.8901830313617785\n",
            "RMSE is : 2.7436209462398615\n",
            "MAPE is : 12.136736667052988\n",
            "R2 is : -0.2103986726998317\n",
            "\n",
            "Fitting for smoothing level= 1\n",
            "Evaluation metric results:-\n",
            "MSE is : 7.436333333333329\n",
            "MAE is : 1.8766666666666665\n",
            "RMSE is : 2.7269641239542057\n",
            "MAPE is : 12.071914767669014\n",
            "R2 is : -0.19574636105547638\n",
            "\n"
          ]
        },
        {
          "output_type": "stream",
          "name": "stderr",
          "text": [
            "/usr/local/lib/python3.7/dist-packages/statsmodels/tsa/holtwinters/model.py:429: FutureWarning: After 0.13 initialization must be handled at model creation\n",
            "  FutureWarning,\n"
          ]
        },
        {
          "output_type": "execute_result",
          "data": {
            "text/plain": [
              "    smoothing parameter      RMSE\n",
              "10                  1.0  2.726964\n",
              "6                   0.6  2.739928\n",
              "7                   0.7  2.742630\n",
              "9                   0.9  2.743621\n",
              "8                   0.8  2.746797\n",
              "5                   0.5  2.748823\n",
              "4                   0.4  2.781964\n",
              "3                   0.3  2.858888\n",
              "2                   0.2  3.003005\n",
              "1                   0.1  3.154404\n",
              "0                   0.0  4.098356"
            ],
            "text/html": [
              "\n",
              "  <div id=\"df-d7c1ab7d-9f92-45d4-b2af-7b830eb66ee2\">\n",
              "    <div class=\"colab-df-container\">\n",
              "      <div>\n",
              "<style scoped>\n",
              "    .dataframe tbody tr th:only-of-type {\n",
              "        vertical-align: middle;\n",
              "    }\n",
              "\n",
              "    .dataframe tbody tr th {\n",
              "        vertical-align: top;\n",
              "    }\n",
              "\n",
              "    .dataframe thead th {\n",
              "        text-align: right;\n",
              "    }\n",
              "</style>\n",
              "<table border=\"1\" class=\"dataframe\">\n",
              "  <thead>\n",
              "    <tr style=\"text-align: right;\">\n",
              "      <th></th>\n",
              "      <th>smoothing parameter</th>\n",
              "      <th>RMSE</th>\n",
              "    </tr>\n",
              "  </thead>\n",
              "  <tbody>\n",
              "    <tr>\n",
              "      <th>10</th>\n",
              "      <td>1.0</td>\n",
              "      <td>2.726964</td>\n",
              "    </tr>\n",
              "    <tr>\n",
              "      <th>6</th>\n",
              "      <td>0.6</td>\n",
              "      <td>2.739928</td>\n",
              "    </tr>\n",
              "    <tr>\n",
              "      <th>7</th>\n",
              "      <td>0.7</td>\n",
              "      <td>2.742630</td>\n",
              "    </tr>\n",
              "    <tr>\n",
              "      <th>9</th>\n",
              "      <td>0.9</td>\n",
              "      <td>2.743621</td>\n",
              "    </tr>\n",
              "    <tr>\n",
              "      <th>8</th>\n",
              "      <td>0.8</td>\n",
              "      <td>2.746797</td>\n",
              "    </tr>\n",
              "    <tr>\n",
              "      <th>5</th>\n",
              "      <td>0.5</td>\n",
              "      <td>2.748823</td>\n",
              "    </tr>\n",
              "    <tr>\n",
              "      <th>4</th>\n",
              "      <td>0.4</td>\n",
              "      <td>2.781964</td>\n",
              "    </tr>\n",
              "    <tr>\n",
              "      <th>3</th>\n",
              "      <td>0.3</td>\n",
              "      <td>2.858888</td>\n",
              "    </tr>\n",
              "    <tr>\n",
              "      <th>2</th>\n",
              "      <td>0.2</td>\n",
              "      <td>3.003005</td>\n",
              "    </tr>\n",
              "    <tr>\n",
              "      <th>1</th>\n",
              "      <td>0.1</td>\n",
              "      <td>3.154404</td>\n",
              "    </tr>\n",
              "    <tr>\n",
              "      <th>0</th>\n",
              "      <td>0.0</td>\n",
              "      <td>4.098356</td>\n",
              "    </tr>\n",
              "  </tbody>\n",
              "</table>\n",
              "</div>\n",
              "      <button class=\"colab-df-convert\" onclick=\"convertToInteractive('df-d7c1ab7d-9f92-45d4-b2af-7b830eb66ee2')\"\n",
              "              title=\"Convert this dataframe to an interactive table.\"\n",
              "              style=\"display:none;\">\n",
              "        \n",
              "  <svg xmlns=\"http://www.w3.org/2000/svg\" height=\"24px\"viewBox=\"0 0 24 24\"\n",
              "       width=\"24px\">\n",
              "    <path d=\"M0 0h24v24H0V0z\" fill=\"none\"/>\n",
              "    <path d=\"M18.56 5.44l.94 2.06.94-2.06 2.06-.94-2.06-.94-.94-2.06-.94 2.06-2.06.94zm-11 1L8.5 8.5l.94-2.06 2.06-.94-2.06-.94L8.5 2.5l-.94 2.06-2.06.94zm10 10l.94 2.06.94-2.06 2.06-.94-2.06-.94-.94-2.06-.94 2.06-2.06.94z\"/><path d=\"M17.41 7.96l-1.37-1.37c-.4-.4-.92-.59-1.43-.59-.52 0-1.04.2-1.43.59L10.3 9.45l-7.72 7.72c-.78.78-.78 2.05 0 2.83L4 21.41c.39.39.9.59 1.41.59.51 0 1.02-.2 1.41-.59l7.78-7.78 2.81-2.81c.8-.78.8-2.07 0-2.86zM5.41 20L4 18.59l7.72-7.72 1.47 1.35L5.41 20z\"/>\n",
              "  </svg>\n",
              "      </button>\n",
              "      \n",
              "  <style>\n",
              "    .colab-df-container {\n",
              "      display:flex;\n",
              "      flex-wrap:wrap;\n",
              "      gap: 12px;\n",
              "    }\n",
              "\n",
              "    .colab-df-convert {\n",
              "      background-color: #E8F0FE;\n",
              "      border: none;\n",
              "      border-radius: 50%;\n",
              "      cursor: pointer;\n",
              "      display: none;\n",
              "      fill: #1967D2;\n",
              "      height: 32px;\n",
              "      padding: 0 0 0 0;\n",
              "      width: 32px;\n",
              "    }\n",
              "\n",
              "    .colab-df-convert:hover {\n",
              "      background-color: #E2EBFA;\n",
              "      box-shadow: 0px 1px 2px rgba(60, 64, 67, 0.3), 0px 1px 3px 1px rgba(60, 64, 67, 0.15);\n",
              "      fill: #174EA6;\n",
              "    }\n",
              "\n",
              "    [theme=dark] .colab-df-convert {\n",
              "      background-color: #3B4455;\n",
              "      fill: #D2E3FC;\n",
              "    }\n",
              "\n",
              "    [theme=dark] .colab-df-convert:hover {\n",
              "      background-color: #434B5C;\n",
              "      box-shadow: 0px 1px 3px 1px rgba(0, 0, 0, 0.15);\n",
              "      filter: drop-shadow(0px 1px 2px rgba(0, 0, 0, 0.3));\n",
              "      fill: #FFFFFF;\n",
              "    }\n",
              "  </style>\n",
              "\n",
              "      <script>\n",
              "        const buttonEl =\n",
              "          document.querySelector('#df-d7c1ab7d-9f92-45d4-b2af-7b830eb66ee2 button.colab-df-convert');\n",
              "        buttonEl.style.display =\n",
              "          google.colab.kernel.accessAllowed ? 'block' : 'none';\n",
              "\n",
              "        async function convertToInteractive(key) {\n",
              "          const element = document.querySelector('#df-d7c1ab7d-9f92-45d4-b2af-7b830eb66ee2');\n",
              "          const dataTable =\n",
              "            await google.colab.kernel.invokeFunction('convertToInteractive',\n",
              "                                                     [key], {});\n",
              "          if (!dataTable) return;\n",
              "\n",
              "          const docLinkHtml = 'Like what you see? Visit the ' +\n",
              "            '<a target=\"_blank\" href=https://colab.research.google.com/notebooks/data_table.ipynb>data table notebook</a>'\n",
              "            + ' to learn more about interactive tables.';\n",
              "          element.innerHTML = '';\n",
              "          dataTable['output_type'] = 'display_data';\n",
              "          await google.colab.output.renderOutput(dataTable, element);\n",
              "          const docLink = document.createElement('div');\n",
              "          docLink.innerHTML = docLinkHtml;\n",
              "          element.appendChild(docLink);\n",
              "        }\n",
              "      </script>\n",
              "    </div>\n",
              "  </div>\n",
              "  "
            ]
          },
          "metadata": {},
          "execution_count": 6
        }
      ]
    },
    {
      "cell_type": "code",
      "source": [
        "#using values from grid search\n",
        "fitSES = SimpleExpSmoothing(np.asarray(train)).fit( smoothing_level = 0.1,optimized= False)\n",
        "fcst_gs_pred = fitSES.forecast(30)\n",
        "timeseries_evaluation_metrics_func(test,fcst_gs_pred)"
      ],
      "metadata": {
        "id": "vZ2vLm7Y5pk7",
        "colab": {
          "base_uri": "https://localhost:8080/"
        },
        "outputId": "321a2920-d81a-44e1-bfbf-a277f909961c"
      },
      "execution_count": null,
      "outputs": [
        {
          "output_type": "stream",
          "name": "stdout",
          "text": [
            "Evaluation metric results:-\n",
            "MSE is : 9.950262797058107\n",
            "MAE is : 2.3574326371068692\n",
            "RMSE is : 3.1544037149765893\n",
            "MAPE is : 14.95888039906589\n",
            "R2 is : -0.5999807966911905\n",
            "\n"
          ]
        },
        {
          "output_type": "stream",
          "name": "stderr",
          "text": [
            "/usr/local/lib/python3.7/dist-packages/statsmodels/tsa/holtwinters/model.py:429: FutureWarning: After 0.13 initialization must be handled at model creation\n",
            "  FutureWarning,\n"
          ]
        }
      ]
    },
    {
      "cell_type": "code",
      "source": [
        "#Automated smoothing_level\n",
        "fitSESauto = SimpleExpSmoothing(np.asarray(train)).fit( optimized= True, use_brute = True)\n",
        "fcst_auto_pred = fitSESauto.forecast(30)\n",
        "timeseries_evaluation_metrics_func(test,fcst_auto_pred)"
      ],
      "metadata": {
        "id": "LewfXc0S5rgo",
        "colab": {
          "base_uri": "https://localhost:8080/"
        },
        "outputId": "23cc979e-c06f-4a61-aa1a-b168b3ebade8"
      },
      "execution_count": null,
      "outputs": [
        {
          "output_type": "stream",
          "name": "stdout",
          "text": [
            "Evaluation metric results:-\n",
            "MSE is : 7.669326013361107\n",
            "MAE is : 1.9104508465398051\n",
            "RMSE is : 2.7693548009168323\n",
            "MAPE is : 12.234295325774484\n",
            "R2 is : -0.23321108147715974\n",
            "\n"
          ]
        },
        {
          "output_type": "stream",
          "name": "stderr",
          "text": [
            "/usr/local/lib/python3.7/dist-packages/statsmodels/tsa/holtwinters/model.py:429: FutureWarning: After 0.13 initialization must be handled at model creation\n",
            "  FutureWarning,\n"
          ]
        }
      ]
    },
    {
      "cell_type": "code",
      "source": [
        "fitSESauto.summary()"
      ],
      "metadata": {
        "id": "0pEMY0B85tNv",
        "colab": {
          "base_uri": "https://localhost:8080/",
          "height": 270
        },
        "outputId": "f76d4472-4abd-4d2a-8452-a414c96a0015"
      },
      "execution_count": null,
      "outputs": [
        {
          "output_type": "execute_result",
          "data": {
            "text/plain": [
              "<class 'statsmodels.iolib.summary.Summary'>\n",
              "\"\"\"\n",
              "                       SimpleExpSmoothing Model Results                       \n",
              "==============================================================================\n",
              "Dep. Variable:                  endog   No. Observations:                 3620\n",
              "Model:             SimpleExpSmoothing   SSE                          24743.476\n",
              "Optimized:                       True   AIC                           6961.958\n",
              "Trend:                           None   BIC                           6974.346\n",
              "Seasonal:                        None   AICC                          6961.969\n",
              "Seasonal Periods:                None   Date:                 Mon, 31 Oct 2022\n",
              "Box-Cox:                        False   Time:                         15:05:23\n",
              "Box-Cox Coeff.:                  None                                         \n",
              "==============================================================================\n",
              "                       coeff                 code              optimized      \n",
              "------------------------------------------------------------------------------\n",
              "smoothing_level            0.4278514                alpha                 True\n",
              "initial_level              18.792784                  l.0                 True\n",
              "------------------------------------------------------------------------------\n",
              "\"\"\""
            ],
            "text/html": [
              "<table class=\"simpletable\">\n",
              "<caption>SimpleExpSmoothing Model Results</caption>\n",
              "<tr>\n",
              "  <th>Dep. Variable:</th>           <td>endog</td>       <th>  No. Observations:  </th>       <td>3620</td>      \n",
              "</tr>\n",
              "<tr>\n",
              "  <th>Model:</th>            <td>SimpleExpSmoothing</td> <th>  SSE                </th>     <td>24743.476</td>   \n",
              "</tr>\n",
              "<tr>\n",
              "  <th>Optimized:</th>               <td>True</td>        <th>  AIC                </th>     <td>6961.958</td>    \n",
              "</tr>\n",
              "<tr>\n",
              "  <th>Trend:</th>                   <td>None</td>        <th>  BIC                </th>     <td>6974.346</td>    \n",
              "</tr>\n",
              "<tr>\n",
              "  <th>Seasonal:</th>                <td>None</td>        <th>  AICC               </th>     <td>6961.969</td>    \n",
              "</tr>\n",
              "<tr>\n",
              "  <th>Seasonal Periods:</th>        <td>None</td>        <th>  Date:              </th> <td>Mon, 31 Oct 2022</td>\n",
              "</tr>\n",
              "<tr>\n",
              "  <th>Box-Cox:</th>                 <td>False</td>       <th>  Time:              </th>     <td>15:05:23</td>    \n",
              "</tr>\n",
              "<tr>\n",
              "  <th>Box-Cox Coeff.:</th>          <td>None</td>        <th>                     </th>         <td> </td>       \n",
              "</tr>\n",
              "</table>\n",
              "<table class=\"simpletable\">\n",
              "<tr>\n",
              "         <td></td>                 <th>coeff</th>                <th>code</th>               <th>optimized</th>     \n",
              "</tr>\n",
              "<tr>\n",
              "  <th>smoothing_level</th> <td>           0.4278514</td> <td>               alpha</td> <td>                True</td>\n",
              "</tr>\n",
              "<tr>\n",
              "  <th>initial_level</th>   <td>           18.792784</td> <td>                 l.0</td> <td>                True</td>\n",
              "</tr>\n",
              "</table>"
            ]
          },
          "metadata": {},
          "execution_count": 9
        }
      ]
    },
    {
      "cell_type": "code",
      "source": [
        "df_fcst_gs_pred = pd.DataFrame(fcst_gs_pred, columns=['Close_grid_Search'])\n",
        "df_fcst_gs_pred[\"new_index\"] = range(1229    , 1259)\n",
        "df_fcst_gs_pred = df_fcst_gs_pred.set_index(\"new_index\")"
      ],
      "metadata": {
        "id": "Ls5zcrKS5usR"
      },
      "execution_count": null,
      "outputs": []
    },
    {
      "cell_type": "code",
      "source": [
        "df_fcst_auto_pred = pd.DataFrame(fcst_auto_pred, columns=['Close_auto_search'])\n",
        "df_fcst_auto_pred[\"new_index\"] = range(1229    , 1259)\n",
        "df_fcst_auto_pred = df_fcst_auto_pred.set_index(\"new_index\")"
      ],
      "metadata": {
        "id": "a71yam0o5wXk"
      },
      "execution_count": null,
      "outputs": []
    },
    {
      "cell_type": "code",
      "source": [
        "import matplotlib.pyplot as plt\n",
        "%matplotlib inline\n",
        "plt.rcParams[\"figure.figsize\"] = [16,9]\n",
        "plt.plot( train, label='Train')\n",
        "plt.plot(test, label='Test')\n",
        "plt.plot(df_fcst_auto_pred, label='Simple Exponential Smoothing using optimized =True')\n",
        "plt.plot(df_fcst_gs_pred, label='Simple Exponential Smoothing using custom grid search')\n",
        "plt.legend(loc='best')\n",
        "plt.show()"
      ],
      "metadata": {
        "id": "quhNFyal5x12",
        "colab": {
          "base_uri": "https://localhost:8080/",
          "height": 537
        },
        "outputId": "063308e2-0499-4dc4-f102-694174b28579"
      },
      "execution_count": null,
      "outputs": [
        {
          "output_type": "display_data",
          "data": {
            "text/plain": [
              "<Figure size 1152x648 with 1 Axes>"
            ],
            "image/png": "[encoded data removed]"
          },
          "metadata": {
            "needs_background": "light"
          }
        }
      ]
    },
    {
      "cell_type": "markdown",
      "source": [
        "**Double Exponential Smoothing**"
      ],
      "metadata": {
        "id": "REPZB8iM52DY"
      }
    },
    {
      "cell_type": "code",
      "source": [
        "import pandas as pd\n",
        "import numpy as np\n",
        "from sklearn import metrics\n",
        "from timeit import default_timer as timer\n",
        "from statsmodels.tsa.api import ExponentialSmoothing, SimpleExpSmoothing, Holt"
      ],
      "metadata": {
        "id": "IJqQA3_b510B"
      },
      "execution_count": null,
      "outputs": []
    },
    {
      "cell_type": "code",
      "source": [
        "df = pd.read_csv(r'/content/temp (1).csv')"
      ],
      "metadata": {
        "id": "8Vj-dzMT592W"
      },
      "execution_count": null,
      "outputs": []
    },
    {
      "cell_type": "code",
      "source": [
        "train = df.Temp[0:-30]\n",
        "test = df.Temp[-30:]"
      ],
      "metadata": {
        "id": "nTYQ6VFf6A3l"
      },
      "execution_count": null,
      "outputs": []
    },
    {
      "cell_type": "code",
      "source": [
        "def timeseries_evaluation_metrics_func(y_true, y_pred):\n",
        "    \n",
        "    def mean_absolute_percentage_error(y_true, y_pred): \n",
        "        y_true, y_pred = np.array(y_true), np.array(y_pred)\n",
        "        return np.mean(np.abs((y_true - y_pred) / y_true)) * 100\n",
        "    print('Evaluation metric results:-')\n",
        "    print(f'MSE is : {metrics.mean_squared_error(y_true, y_pred)}')\n",
        "    print(f'MAE is : {metrics.mean_absolute_error(y_true, y_pred)}')\n",
        "    print(f'RMSE is : {np.sqrt(metrics.mean_squared_error(y_true, y_pred))}')\n",
        "    print(f'MAPE is : {mean_absolute_percentage_error(y_true, y_pred)}')\n",
        "    print(f'R2 is : {metrics.r2_score(y_true, y_pred)}',end='\\n\\n')"
      ],
      "metadata": {
        "id": "EMvmTM-j6IeD"
      },
      "execution_count": null,
      "outputs": []
    },
    {
      "cell_type": "code",
      "source": [
        "from sklearn.model_selection import ParameterGrid\n",
        "param_grid = {'smoothing_level': [0.10, 0.20,.30,.40,.50,.60,.70,.80,.90], 'smoothing_slope':[0.10, 0.20,.30,.40,.50,.60,.70,.80,.90],\n",
        "              'damping_slope': [0.10, 0.20,.30,.40,.50,.60,.70,.80,.90],'damped' : [True, False]}\n",
        "pg = list(ParameterGrid(param_grid))"
      ],
      "metadata": {
        "id": "m2TSyQZe6IYE"
      },
      "execution_count": null,
      "outputs": []
    },
    {
      "cell_type": "code",
      "source": [
        "df_results_moni = pd.DataFrame(columns=['smoothing_level', 'smoothing_slope', 'damping_slope','damped','RMSE','r2'])\n",
        "start = timer()\n",
        "for a,b in enumerate(pg):\n",
        "    smoothing_level = b.get('smoothing_level')\n",
        "    smoothing_slope = b.get('smoothing_slope')\n",
        "    damping_slope = b.get('damping_slope')\n",
        "    damped = b.get('damped')\n",
        "    print(smoothing_level, smoothing_slope, damping_slope,damped)\n",
        "    fit1 = Holt(train,damped =damped ).fit(smoothing_level=smoothing_level, smoothing_slope=smoothing_slope, damping_slope = damping_slope ,optimized=False)\n",
        "    #fit1.summary\n",
        "    z = fit1.forecast(30)\n",
        "    print(z)\n",
        "    df_pred = pd.DataFrame(z, columns=['Forecasted_result'])\n",
        "    RMSE = np.sqrt(metrics.mean_squared_error(test, df_pred.Forecasted_result))\n",
        "    r2 = metrics.r2_score(test, df_pred.Forecasted_result)\n",
        "    print( f' RMSE is {np.sqrt(metrics.mean_squared_error(test, df_pred.Forecasted_result))}')\n",
        "    df_results_moni = df_results_moni.append({'smoothing_level' :smoothing_level, 'smoothing_slope':smoothing_slope, 'damping_slope' :damping_slope,'damped':damped,'RMSE': RMSE,'r2':r2}, ignore_index=True)\n",
        "end = timer()\n",
        "print(f' Total time taken to complete grid search in seconds: {(end - start)}')"
      ],
      "metadata": {
        "id": "m7pZ2X5Q6LVZ"
      },
      "execution_count": null,
      "outputs": []
    },
    {
      "cell_type": "code",
      "source": [
        "print(f' Below mentioned parameter gives least RMSE and r2')\n",
        "df_results_moni.sort_values(by=['RMSE','r2']).head(1)"
      ],
      "metadata": {
        "id": "TYOqeBst6Tzl",
        "colab": {
          "base_uri": "https://localhost:8080/",
          "height": 99
        },
        "outputId": "a78cd264-64f1-41ce-fbaa-b5e8496f2360"
      },
      "execution_count": null,
      "outputs": [
        {
          "output_type": "stream",
          "name": "stdout",
          "text": [
            " Below mentioned parameter gives least RMSE and r2\n"
          ]
        },
        {
          "output_type": "execute_result",
          "data": {
            "text/plain": [
              "     smoothing_level  smoothing_slope  damping_slope damped      RMSE  \\\n",
              "601              0.4              0.8            0.8   True  2.556343   \n",
              "\n",
              "           r2  \n",
              "601 -0.050796  "
            ],
            "text/html": [
              "\n",
              "  <div id=\"df-69f813c1-e2fc-4a17-86c0-4dbfd88713f0\">\n",
              "    <div class=\"colab-df-container\">\n",
              "      <div>\n",
              "<style scoped>\n",
              "    .dataframe tbody tr th:only-of-type {\n",
              "        vertical-align: middle;\n",
              "    }\n",
              "\n",
              "    .dataframe tbody tr th {\n",
              "        vertical-align: top;\n",
              "    }\n",
              "\n",
              "    .dataframe thead th {\n",
              "        text-align: right;\n",
              "    }\n",
              "</style>\n",
              "<table border=\"1\" class=\"dataframe\">\n",
              "  <thead>\n",
              "    <tr style=\"text-align: right;\">\n",
              "      <th></th>\n",
              "      <th>smoothing_level</th>\n",
              "      <th>smoothing_slope</th>\n",
              "      <th>damping_slope</th>\n",
              "      <th>damped</th>\n",
              "      <th>RMSE</th>\n",
              "      <th>r2</th>\n",
              "    </tr>\n",
              "  </thead>\n",
              "  <tbody>\n",
              "    <tr>\n",
              "      <th>601</th>\n",
              "      <td>0.4</td>\n",
              "      <td>0.8</td>\n",
              "      <td>0.8</td>\n",
              "      <td>True</td>\n",
              "      <td>2.556343</td>\n",
              "      <td>-0.050796</td>\n",
              "    </tr>\n",
              "  </tbody>\n",
              "</table>\n",
              "</div>\n",
              "      <button class=\"colab-df-convert\" onclick=\"convertToInteractive('df-69f813c1-e2fc-4a17-86c0-4dbfd88713f0')\"\n",
              "              title=\"Convert this dataframe to an interactive table.\"\n",
              "              style=\"display:none;\">\n",
              "        \n",
              "  <svg xmlns=\"http://www.w3.org/2000/svg\" height=\"24px\"viewBox=\"0 0 24 24\"\n",
              "       width=\"24px\">\n",
              "    <path d=\"M0 0h24v24H0V0z\" fill=\"none\"/>\n",
              "    <path d=\"M18.56 5.44l.94 2.06.94-2.06 2.06-.94-2.06-.94-.94-2.06-.94 2.06-2.06.94zm-11 1L8.5 8.5l.94-2.06 2.06-.94-2.06-.94L8.5 2.5l-.94 2.06-2.06.94zm10 10l.94 2.06.94-2.06 2.06-.94-2.06-.94-.94-2.06-.94 2.06-2.06.94z\"/><path d=\"M17.41 7.96l-1.37-1.37c-.4-.4-.92-.59-1.43-.59-.52 0-1.04.2-1.43.59L10.3 9.45l-7.72 7.72c-.78.78-.78 2.05 0 2.83L4 21.41c.39.39.9.59 1.41.59.51 0 1.02-.2 1.41-.59l7.78-7.78 2.81-2.81c.8-.78.8-2.07 0-2.86zM5.41 20L4 18.59l7.72-7.72 1.47 1.35L5.41 20z\"/>\n",
              "  </svg>\n",
              "      </button>\n",
              "      \n",
              "  <style>\n",
              "    .colab-df-container {\n",
              "      display:flex;\n",
              "      flex-wrap:wrap;\n",
              "      gap: 12px;\n",
              "    }\n",
              "\n",
              "    .colab-df-convert {\n",
              "      background-color: #E8F0FE;\n",
              "      border: none;\n",
              "      border-radius: 50%;\n",
              "      cursor: pointer;\n",
              "      display: none;\n",
              "      fill: #1967D2;\n",
              "      height: 32px;\n",
              "      padding: 0 0 0 0;\n",
              "      width: 32px;\n",
              "    }\n",
              "\n",
              "    .colab-df-convert:hover {\n",
              "      background-color: #E2EBFA;\n",
              "      box-shadow: 0px 1px 2px rgba(60, 64, 67, 0.3), 0px 1px 3px 1px rgba(60, 64, 67, 0.15);\n",
              "      fill: #174EA6;\n",
              "    }\n",
              "\n",
              "    [theme=dark] .colab-df-convert {\n",
              "      background-color: #3B4455;\n",
              "      fill: #D2E3FC;\n",
              "    }\n",
              "\n",
              "    [theme=dark] .colab-df-convert:hover {\n",
              "      background-color: #434B5C;\n",
              "      box-shadow: 0px 1px 3px 1px rgba(0, 0, 0, 0.15);\n",
              "      filter: drop-shadow(0px 1px 2px rgba(0, 0, 0, 0.3));\n",
              "      fill: #FFFFFF;\n",
              "    }\n",
              "  </style>\n",
              "\n",
              "      <script>\n",
              "        const buttonEl =\n",
              "          document.querySelector('#df-69f813c1-e2fc-4a17-86c0-4dbfd88713f0 button.colab-df-convert');\n",
              "        buttonEl.style.display =\n",
              "          google.colab.kernel.accessAllowed ? 'block' : 'none';\n",
              "\n",
              "        async function convertToInteractive(key) {\n",
              "          const element = document.querySelector('#df-69f813c1-e2fc-4a17-86c0-4dbfd88713f0');\n",
              "          const dataTable =\n",
              "            await google.colab.kernel.invokeFunction('convertToInteractive',\n",
              "                                                     [key], {});\n",
              "          if (!dataTable) return;\n",
              "\n",
              "          const docLinkHtml = 'Like what you see? Visit the ' +\n",
              "            '<a target=\"_blank\" href=https://colab.research.google.com/notebooks/data_table.ipynb>data table notebook</a>'\n",
              "            + ' to learn more about interactive tables.';\n",
              "          element.innerHTML = '';\n",
              "          dataTable['output_type'] = 'display_data';\n",
              "          await google.colab.output.renderOutput(dataTable, element);\n",
              "          const docLink = document.createElement('div');\n",
              "          docLink.innerHTML = docLinkHtml;\n",
              "          element.appendChild(docLink);\n",
              "        }\n",
              "      </script>\n",
              "    </div>\n",
              "  </div>\n",
              "  "
            ]
          },
          "metadata": {},
          "execution_count": 20
        }
      ]
    },
    {
      "cell_type": "code",
      "source": [
        "fit1 = Holt(train,damped =False ).fit(smoothing_level=0.9, smoothing_slope=0.6, damping_slope = 0.1 ,optimized=False)"
      ],
      "metadata": {
        "id": "YPNMCrFb6a4d"
      },
      "execution_count": null,
      "outputs": []
    },
    {
      "cell_type": "code",
      "source": [
        "Forecast_custom_pred = fit1.forecast(30)"
      ],
      "metadata": {
        "id": "tVIVlKJ_6ckR"
      },
      "execution_count": null,
      "outputs": []
    },
    {
      "cell_type": "code",
      "source": [
        "fit1.summary()"
      ],
      "metadata": {
        "id": "-wD1ujj86ccu",
        "colab": {
          "base_uri": "https://localhost:8080/",
          "height": 313
        },
        "outputId": "bb7ef844-bf4a-44ca-df21-b48b0f972902"
      },
      "execution_count": null,
      "outputs": [
        {
          "output_type": "execute_result",
          "data": {
            "text/plain": [
              "<class 'statsmodels.iolib.summary.Summary'>\n",
              "\"\"\"\n",
              "                              Holt Model Results                              \n",
              "==============================================================================\n",
              "Dep. Variable:                   Temp   No. Observations:                 3620\n",
              "Model:                           Holt   SSE                          42225.640\n",
              "Optimized:                      False   AIC                           8900.724\n",
              "Trend:                       Additive   BIC                           8925.501\n",
              "Seasonal:                        None   AICC                          8900.747\n",
              "Seasonal Periods:                None   Date:                 Mon, 31 Oct 2022\n",
              "Box-Cox:                        False   Time:                         15:13:32\n",
              "Box-Cox Coeff.:                  None                                         \n",
              "==============================================================================\n",
              "                       coeff                 code              optimized      \n",
              "------------------------------------------------------------------------------\n",
              "smoothing_level            0.9000000                alpha                False\n",
              "smoothing_trend            0.6000000                 beta                False\n",
              "initial_level              20.700000                  l.0                False\n",
              "initial_trend             -2.8000000                  b.0                False\n",
              "------------------------------------------------------------------------------\n",
              "\"\"\""
            ],
            "text/html": [
              "<table class=\"simpletable\">\n",
              "<caption>Holt Model Results</caption>\n",
              "<tr>\n",
              "  <th>Dep. Variable:</th>      <td>Temp</td>   <th>  No. Observations:  </th>       <td>3620</td>      \n",
              "</tr>\n",
              "<tr>\n",
              "  <th>Model:</th>              <td>Holt</td>   <th>  SSE                </th>     <td>42225.640</td>   \n",
              "</tr>\n",
              "<tr>\n",
              "  <th>Optimized:</th>          <td>False</td>  <th>  AIC                </th>     <td>8900.724</td>    \n",
              "</tr>\n",
              "<tr>\n",
              "  <th>Trend:</th>            <td>Additive</td> <th>  BIC                </th>     <td>8925.501</td>    \n",
              "</tr>\n",
              "<tr>\n",
              "  <th>Seasonal:</th>           <td>None</td>   <th>  AICC               </th>     <td>8900.747</td>    \n",
              "</tr>\n",
              "<tr>\n",
              "  <th>Seasonal Periods:</th>   <td>None</td>   <th>  Date:              </th> <td>Mon, 31 Oct 2022</td>\n",
              "</tr>\n",
              "<tr>\n",
              "  <th>Box-Cox:</th>            <td>False</td>  <th>  Time:              </th>     <td>15:13:32</td>    \n",
              "</tr>\n",
              "<tr>\n",
              "  <th>Box-Cox Coeff.:</th>     <td>None</td>   <th>                     </th>         <td> </td>       \n",
              "</tr>\n",
              "</table>\n",
              "<table class=\"simpletable\">\n",
              "<tr>\n",
              "         <td></td>                 <th>coeff</th>                <th>code</th>               <th>optimized</th>     \n",
              "</tr>\n",
              "<tr>\n",
              "  <th>smoothing_level</th> <td>           0.9000000</td> <td>               alpha</td> <td>               False</td>\n",
              "</tr>\n",
              "<tr>\n",
              "  <th>smoothing_trend</th> <td>           0.6000000</td> <td>                beta</td> <td>               False</td>\n",
              "</tr>\n",
              "<tr>\n",
              "  <th>initial_level</th>   <td>           20.700000</td> <td>                 l.0</td> <td>               False</td>\n",
              "</tr>\n",
              "<tr>\n",
              "  <th>initial_trend</th>   <td>          -2.8000000</td> <td>                 b.0</td> <td>               False</td>\n",
              "</tr>\n",
              "</table>"
            ]
          },
          "metadata": {},
          "execution_count": 23
        }
      ]
    },
    {
      "cell_type": "code",
      "source": [
        "timeseries_evaluation_metrics_func(test,Forecast_custom_pred)"
      ],
      "metadata": {
        "id": "p67XmmJF6f-g",
        "colab": {
          "base_uri": "https://localhost:8080/"
        },
        "outputId": "1d442a54-8e6f-471c-eac9-d1bcfff18ed9"
      },
      "execution_count": null,
      "outputs": [
        {
          "output_type": "stream",
          "name": "stdout",
          "text": [
            "Evaluation metric results:-\n",
            "MSE is : 13.664799282013888\n",
            "MAE is : 3.120090473127592\n",
            "RMSE is : 3.6965929289027604\n",
            "MAPE is : 20.268166862972105\n",
            "R2 is : -1.1972702518295217\n",
            "\n"
          ]
        }
      ]
    },
    {
      "cell_type": "code",
      "source": [
        "# Automated Parameter\n",
        "fitESAUTO = Holt(train).fit(optimized= True, use_brute = True)\n",
        "fitESAUTO.summary()"
      ],
      "metadata": {
        "id": "TSIA22Cs6hWR",
        "colab": {
          "base_uri": "https://localhost:8080/",
          "height": 349
        },
        "outputId": "c8aadbd0-ebc8-4bc8-d61b-f69d9844985c"
      },
      "execution_count": null,
      "outputs": [
        {
          "output_type": "stream",
          "name": "stderr",
          "text": [
            "/usr/local/lib/python3.7/dist-packages/statsmodels/tsa/holtwinters/model.py:429: FutureWarning: After 0.13 initialization must be handled at model creation\n",
            "  FutureWarning,\n"
          ]
        },
        {
          "output_type": "execute_result",
          "data": {
            "text/plain": [
              "<class 'statsmodels.iolib.summary.Summary'>\n",
              "\"\"\"\n",
              "                              Holt Model Results                              \n",
              "==============================================================================\n",
              "Dep. Variable:                   Temp   No. Observations:                 3620\n",
              "Model:                           Holt   SSE                          24744.246\n",
              "Optimized:                       True   AIC                           6966.071\n",
              "Trend:                       Additive   BIC                           6990.848\n",
              "Seasonal:                        None   AICC                          6966.094\n",
              "Seasonal Periods:                None   Date:                 Mon, 31 Oct 2022\n",
              "Box-Cox:                        False   Time:                         15:13:36\n",
              "Box-Cox Coeff.:                  None                                         \n",
              "==============================================================================\n",
              "                       coeff                 code              optimized      \n",
              "------------------------------------------------------------------------------\n",
              "smoothing_level            0.4277768                alpha                 True\n",
              "smoothing_trend           3.1635e-05                 beta                 True\n",
              "initial_level              18.951172                  l.0                 True\n",
              "initial_trend             -0.0015493                  b.0                 True\n",
              "------------------------------------------------------------------------------\n",
              "\"\"\""
            ],
            "text/html": [
              "<table class=\"simpletable\">\n",
              "<caption>Holt Model Results</caption>\n",
              "<tr>\n",
              "  <th>Dep. Variable:</th>      <td>Temp</td>   <th>  No. Observations:  </th>       <td>3620</td>      \n",
              "</tr>\n",
              "<tr>\n",
              "  <th>Model:</th>              <td>Holt</td>   <th>  SSE                </th>     <td>24744.246</td>   \n",
              "</tr>\n",
              "<tr>\n",
              "  <th>Optimized:</th>          <td>True</td>   <th>  AIC                </th>     <td>6966.071</td>    \n",
              "</tr>\n",
              "<tr>\n",
              "  <th>Trend:</th>            <td>Additive</td> <th>  BIC                </th>     <td>6990.848</td>    \n",
              "</tr>\n",
              "<tr>\n",
              "  <th>Seasonal:</th>           <td>None</td>   <th>  AICC               </th>     <td>6966.094</td>    \n",
              "</tr>\n",
              "<tr>\n",
              "  <th>Seasonal Periods:</th>   <td>None</td>   <th>  Date:              </th> <td>Mon, 31 Oct 2022</td>\n",
              "</tr>\n",
              "<tr>\n",
              "  <th>Box-Cox:</th>            <td>False</td>  <th>  Time:              </th>     <td>15:13:36</td>    \n",
              "</tr>\n",
              "<tr>\n",
              "  <th>Box-Cox Coeff.:</th>     <td>None</td>   <th>                     </th>         <td> </td>       \n",
              "</tr>\n",
              "</table>\n",
              "<table class=\"simpletable\">\n",
              "<tr>\n",
              "         <td></td>                 <th>coeff</th>                <th>code</th>               <th>optimized</th>     \n",
              "</tr>\n",
              "<tr>\n",
              "  <th>smoothing_level</th> <td>           0.4277768</td> <td>               alpha</td> <td>                True</td>\n",
              "</tr>\n",
              "<tr>\n",
              "  <th>smoothing_trend</th> <td>          3.1635e-05</td> <td>                beta</td> <td>                True</td>\n",
              "</tr>\n",
              "<tr>\n",
              "  <th>initial_level</th>   <td>           18.951172</td> <td>                 l.0</td> <td>                True</td>\n",
              "</tr>\n",
              "<tr>\n",
              "  <th>initial_trend</th>   <td>          -0.0015493</td> <td>                 b.0</td> <td>                True</td>\n",
              "</tr>\n",
              "</table>"
            ]
          },
          "metadata": {},
          "execution_count": 25
        }
      ]
    },
    {
      "cell_type": "code",
      "source": [
        "fitESAUTOpred = fitESAUTO.forecast(30)\n",
        "timeseries_evaluation_metrics_func(test,fitESAUTOpred)"
      ],
      "metadata": {
        "id": "FwIaKYyb6jVG",
        "colab": {
          "base_uri": "https://localhost:8080/"
        },
        "outputId": "6f8a1293-b212-41ac-ec9b-c9f86f9c4e20"
      },
      "execution_count": null,
      "outputs": [
        {
          "output_type": "stream",
          "name": "stdout",
          "text": [
            "Evaluation metric results:-\n",
            "MSE is : 7.707269274374199\n",
            "MAE is : 1.920826060953522\n",
            "RMSE is : 2.7761969084296236\n",
            "MAPE is : 12.29376843067517\n",
            "R2 is : -0.23931227601070892\n",
            "\n"
          ]
        }
      ]
    },
    {
      "cell_type": "code",
      "source": [
        "import matplotlib.pyplot as plt\n",
        "%matplotlib inline\n",
        "plt.rcParams[\"figure.figsize\"] = [16,9]\n",
        "plt.plot( train, label='Train')\n",
        "plt.plot(test, label='Test')\n",
        "plt.plot(fitESAUTOpred, label='Automated grid search')\n",
        "plt.plot(Forecast_custom_pred, label='Double Exponential Smoothing with custom grid search')\n",
        "plt.legend(loc='best')\n",
        "plt.show()"
      ],
      "metadata": {
        "id": "iz-_aP8q6koL",
        "colab": {
          "base_uri": "https://localhost:8080/",
          "height": 537
        },
        "outputId": "a4c17069-ea08-49f5-9a24-c8a8a200b895"
      },
      "execution_count": null,
      "outputs": [
        {
          "output_type": "display_data",
          "data": {
            "text/plain": [
              "<Figure size 1152x648 with 1 Axes>"
            ],
            "image/png": "[encoded data removed]"
          },
          "metadata": {
            "needs_background": "light"
          }
        }
      ]
    },
    {
      "cell_type": "markdown",
      "source": [
        "**Triple Exponential Smoothing**"
      ],
      "metadata": {
        "id": "oV1d5Jjr7OUM"
      }
    },
    {
      "cell_type": "code",
      "source": [
        "from statsmodels.tsa.api import ExponentialSmoothing\n",
        "import pandas as pd\n",
        "import numpy as np\n",
        "from sklearn import metrics\n",
        "from timeit import default_timer as timer"
      ],
      "metadata": {
        "id": "-Mt6Ppnh7cI2"
      },
      "execution_count": null,
      "outputs": []
    },
    {
      "cell_type": "code",
      "source": [
        "df=pd.read_csv(r'/content/temp (1).csv')\n",
        "X = df['Temp']\n",
        "train = df.Temp[0:-30]\n",
        "test=df.Temp[-30:]"
      ],
      "metadata": {
        "id": "SV34qGIH7g1o"
      },
      "execution_count": null,
      "outputs": []
    },
    {
      "cell_type": "code",
      "source": [
        "def timeseries_evaluation_metrics_func(y_true, y_pred):\n",
        "    \n",
        "    def mean_absolute_percentage_error(y_true, y_pred): \n",
        "        y_true, y_pred = np.array(y_true), np.array(y_pred)\n",
        "        return np.mean(np.abs((y_true - y_pred) / y_true)) * 100\n",
        "    print('Evaluation metric results:-')\n",
        "    print(f'MSE is : {metrics.mean_squared_error(y_true, y_pred)}')\n",
        "    print(f'MAE is : {metrics.mean_absolute_error(y_true, y_pred)}')\n",
        "    print(f'RMSE is : {np.sqrt(metrics.mean_squared_error(y_true, y_pred))}')\n",
        "    print(f'MAPE is : {mean_absolute_percentage_error(y_true, y_pred)}')\n",
        "    print(f'R2 is : {metrics.r2_score(y_true, y_pred)}',end='\\n\\n')"
      ],
      "metadata": {
        "id": "hEr5maVD7rj2"
      },
      "execution_count": null,
      "outputs": []
    },
    {
      "cell_type": "code",
      "source": [
        "from sklearn.model_selection import ParameterGrid\n",
        "param_grid = {'trend': ['add', 'mul'],'seasonal' :['add', 'mul'],'seasonal_periods':[3,6,12], 'smoothing_level': [0.10, 0.20,.30,.40,.50,.60,.70,.80,.90], 'smoothing_slope':[0.10, 0.20,.30,.40,.50,.60,.70,.80,.90],\n",
        "              'damping_slope': [0.10, 0.20,.30,.40,.50,.60,.70,.80,.90],'damped' : [True, False], 'use_boxcox':[True, False],\n",
        "             'remove_bias':[True, False],'use_basinhopping':[True, False]}\n",
        "pg = list(ParameterGrid(param_grid))"
      ],
      "metadata": {
        "id": "hw5Avkkk7tdN"
      },
      "execution_count": null,
      "outputs": []
    },
    {
      "cell_type": "code",
      "source": [
        "for i in range(len(X)):\n",
        "  X[i]+=1"
      ],
      "metadata": {
        "id": "e297G_ml8T8i",
        "colab": {
          "base_uri": "https://localhost:8080/"
        },
        "outputId": "2129205d-8b08-44d7-ff17-11a7a5062d3a"
      },
      "execution_count": null,
      "outputs": [
        {
          "output_type": "stream",
          "name": "stderr",
          "text": [
            "/usr/local/lib/python3.7/dist-packages/ipykernel_launcher.py:2: SettingWithCopyWarning: \n",
            "A value is trying to be set on a copy of a slice from a DataFrame\n",
            "\n",
            "See the caveats in the documentation: https://pandas.pydata.org/pandas-docs/stable/user_guide/indexing.html#returning-a-view-versus-a-copy\n",
            "  \n"
          ]
        }
      ]
    },
    {
      "cell_type": "code",
      "source": [
        "df_results_moni = pd.DataFrame(columns=['trend','seasonal_periods','smoothing_level', 'smoothing_slope',\n",
        "                                        'damping_slope','damped','use_boxcox','remove_bias','use_basinhopping','RMSE','r2'])\n",
        "start = timer()\n",
        "print('Starting Grid Search..')\n",
        "for a,b in enumerate(pg):\n",
        "    trend = b.get('trend')\n",
        "    smoothing_level = b.get('smoothing_level')\n",
        "    seasonal_periods = b.get('seasonal_periods')\n",
        "    smoothing_level = b.get('smoothing_level')\n",
        "    smoothing_slope = b.get('smoothing_slope')\n",
        "    damping_slope = b.get('damping_slope')\n",
        "    damped = b.get('damped')\n",
        "    use_boxcox = b.get('use_boxcox')\n",
        "    remove_bias = b.get('remove_bias')\n",
        "    use_basinhopping = b.get('use_basinhopping')\n",
        "    #print(trend,smoothing_level, smoothing_slope,damping_slope,damped,use_boxcox,remove_bias,use_basinhopping)\n",
        "    fit1 = ExponentialSmoothing(train,trend=trend, damped=damped,seasonal_periods=seasonal_periods ).fit(smoothing_level=smoothing_level,smoothing_slope=smoothing_slope, damping_slope = damping_slope,use_boxcox=use_boxcox,optimized=False)\n",
        "    #fit1.summary\n",
        "    z = fit1.forecast(30)\n",
        "    #print(z)\n",
        "    df_pred = pd.DataFrame(z, columns=['Forecasted_result'])\n",
        "    df_pred=df_pred.dropna()\n",
        "    RMSE = np.sqrt(metrics.mean_squared_error(test, df_pred.Forecasted_result))\n",
        "    r2 = metrics.r2_score(test, df_pred.Forecasted_result)\n",
        "    #print( f' RMSE is {np.sqrt(metrics.mean_squared_error(test, df_pred.Forecasted_result))}')\n",
        "    df_results_moni = df_results_moni.append({'trend':trend,'seasonal_periods':seasonal_periods,'smoothing_level':smoothing_level, 'smoothing_slope':smoothing_slope,\n",
        "                                        'damping_slope':damping_slope,'damped':damped,'use_boxcox':use_boxcox,'use_basinhopping':use_basinhopping,'RMSE':RMSE,'r2':r2}, ignore_index=True)\n",
        "print('End of Grid Search')\n",
        "end = timer()\n",
        "print(f' Total time taken to complete grid search in seconds: {(end - start)}')\n"
      ],
      "metadata": {
        "id": "e-QhQ8Ki7vEE"
      },
      "execution_count": null,
      "outputs": []
    },
    {
      "cell_type": "code",
      "source": [
        "print(f' Below mentioned parameter gives least RMSE and r2')\n",
        "df_results_moni.sort_values(by=['RMSE','r2']).head(1)"
      ],
      "metadata": {
        "id": "kNG1gQKk7xO4",
        "colab": {
          "base_uri": "https://localhost:8080/",
          "height": 99
        },
        "outputId": "028635ed-5f96-4fc5-994b-cbf57a94fa1c"
      },
      "execution_count": null,
      "outputs": [
        {
          "output_type": "stream",
          "name": "stdout",
          "text": [
            " Below mentioned parameter gives least RMSE and r2\n"
          ]
        },
        {
          "output_type": "execute_result",
          "data": {
            "text/plain": [
              "      trend seasonal_periods  smoothing_level  smoothing_slope  damping_slope  \\\n",
              "70333   mul                3              0.5              0.8            0.1   \n",
              "\n",
              "      damped use_boxcox  remove_bias use_basinhopping      RMSE       r2  \n",
              "70333  False      False          NaN             True  2.531055 -0.03011  "
            ],
            "text/html": [
              "\n",
              "  <div id=\"df-136cd12d-dbce-4252-9eec-6eecc1e38fbd\">\n",
              "    <div class=\"colab-df-container\">\n",
              "      <div>\n",
              "<style scoped>\n",
              "    .dataframe tbody tr th:only-of-type {\n",
              "        vertical-align: middle;\n",
              "    }\n",
              "\n",
              "    .dataframe tbody tr th {\n",
              "        vertical-align: top;\n",
              "    }\n",
              "\n",
              "    .dataframe thead th {\n",
              "        text-align: right;\n",
              "    }\n",
              "</style>\n",
              "<table border=\"1\" class=\"dataframe\">\n",
              "  <thead>\n",
              "    <tr style=\"text-align: right;\">\n",
              "      <th></th>\n",
              "      <th>trend</th>\n",
              "      <th>seasonal_periods</th>\n",
              "      <th>smoothing_level</th>\n",
              "      <th>smoothing_slope</th>\n",
              "      <th>damping_slope</th>\n",
              "      <th>damped</th>\n",
              "      <th>use_boxcox</th>\n",
              "      <th>remove_bias</th>\n",
              "      <th>use_basinhopping</th>\n",
              "      <th>RMSE</th>\n",
              "      <th>r2</th>\n",
              "    </tr>\n",
              "  </thead>\n",
              "  <tbody>\n",
              "    <tr>\n",
              "      <th>70333</th>\n",
              "      <td>mul</td>\n",
              "      <td>3</td>\n",
              "      <td>0.5</td>\n",
              "      <td>0.8</td>\n",
              "      <td>0.1</td>\n",
              "      <td>False</td>\n",
              "      <td>False</td>\n",
              "      <td>NaN</td>\n",
              "      <td>True</td>\n",
              "      <td>2.531055</td>\n",
              "      <td>-0.03011</td>\n",
              "    </tr>\n",
              "  </tbody>\n",
              "</table>\n",
              "</div>\n",
              "      <button class=\"colab-df-convert\" onclick=\"convertToInteractive('df-136cd12d-dbce-4252-9eec-6eecc1e38fbd')\"\n",
              "              title=\"Convert this dataframe to an interactive table.\"\n",
              "              style=\"display:none;\">\n",
              "        \n",
              "  <svg xmlns=\"http://www.w3.org/2000/svg\" height=\"24px\"viewBox=\"0 0 24 24\"\n",
              "       width=\"24px\">\n",
              "    <path d=\"M0 0h24v24H0V0z\" fill=\"none\"/>\n",
              "    <path d=\"M18.56 5.44l.94 2.06.94-2.06 2.06-.94-2.06-.94-.94-2.06-.94 2.06-2.06.94zm-11 1L8.5 8.5l.94-2.06 2.06-.94-2.06-.94L8.5 2.5l-.94 2.06-2.06.94zm10 10l.94 2.06.94-2.06 2.06-.94-2.06-.94-.94-2.06-.94 2.06-2.06.94z\"/><path d=\"M17.41 7.96l-1.37-1.37c-.4-.4-.92-.59-1.43-.59-.52 0-1.04.2-1.43.59L10.3 9.45l-7.72 7.72c-.78.78-.78 2.05 0 2.83L4 21.41c.39.39.9.59 1.41.59.51 0 1.02-.2 1.41-.59l7.78-7.78 2.81-2.81c.8-.78.8-2.07 0-2.86zM5.41 20L4 18.59l7.72-7.72 1.47 1.35L5.41 20z\"/>\n",
              "  </svg>\n",
              "      </button>\n",
              "      \n",
              "  <style>\n",
              "    .colab-df-container {\n",
              "      display:flex;\n",
              "      flex-wrap:wrap;\n",
              "      gap: 12px;\n",
              "    }\n",
              "\n",
              "    .colab-df-convert {\n",
              "      background-color: #E8F0FE;\n",
              "      border: none;\n",
              "      border-radius: 50%;\n",
              "      cursor: pointer;\n",
              "      display: none;\n",
              "      fill: #1967D2;\n",
              "      height: 32px;\n",
              "      padding: 0 0 0 0;\n",
              "      width: 32px;\n",
              "    }\n",
              "\n",
              "    .colab-df-convert:hover {\n",
              "      background-color: #E2EBFA;\n",
              "      box-shadow: 0px 1px 2px rgba(60, 64, 67, 0.3), 0px 1px 3px 1px rgba(60, 64, 67, 0.15);\n",
              "      fill: #174EA6;\n",
              "    }\n",
              "\n",
              "    [theme=dark] .colab-df-convert {\n",
              "      background-color: #3B4455;\n",
              "      fill: #D2E3FC;\n",
              "    }\n",
              "\n",
              "    [theme=dark] .colab-df-convert:hover {\n",
              "      background-color: #434B5C;\n",
              "      box-shadow: 0px 1px 3px 1px rgba(0, 0, 0, 0.15);\n",
              "      filter: drop-shadow(0px 1px 2px rgba(0, 0, 0, 0.3));\n",
              "      fill: #FFFFFF;\n",
              "    }\n",
              "  </style>\n",
              "\n",
              "      <script>\n",
              "        const buttonEl =\n",
              "          document.querySelector('#df-136cd12d-dbce-4252-9eec-6eecc1e38fbd button.colab-df-convert');\n",
              "        buttonEl.style.display =\n",
              "          google.colab.kernel.accessAllowed ? 'block' : 'none';\n",
              "\n",
              "        async function convertToInteractive(key) {\n",
              "          const element = document.querySelector('#df-136cd12d-dbce-4252-9eec-6eecc1e38fbd');\n",
              "          const dataTable =\n",
              "            await google.colab.kernel.invokeFunction('convertToInteractive',\n",
              "                                                     [key], {});\n",
              "          if (!dataTable) return;\n",
              "\n",
              "          const docLinkHtml = 'Like what you see? Visit the ' +\n",
              "            '<a target=\"_blank\" href=https://colab.research.google.com/notebooks/data_table.ipynb>data table notebook</a>'\n",
              "            + ' to learn more about interactive tables.';\n",
              "          element.innerHTML = '';\n",
              "          dataTable['output_type'] = 'display_data';\n",
              "          await google.colab.output.renderOutput(dataTable, element);\n",
              "          const docLink = document.createElement('div');\n",
              "          docLink.innerHTML = docLinkHtml;\n",
              "          element.appendChild(docLink);\n",
              "        }\n",
              "      </script>\n",
              "    </div>\n",
              "  </div>\n",
              "  "
            ]
          },
          "metadata": {},
          "execution_count": 8
        }
      ]
    },
    {
      "cell_type": "code",
      "source": [
        "df_results_moni.info()"
      ],
      "metadata": {
        "id": "v94IGcuz7yz6",
        "colab": {
          "base_uri": "https://localhost:8080/"
        },
        "outputId": "16efb130-8781-4180-80ea-775fa6b4007d"
      },
      "execution_count": null,
      "outputs": [
        {
          "output_type": "stream",
          "name": "stdout",
          "text": [
            "<class 'pandas.core.frame.DataFrame'>\n",
            "RangeIndex: 139968 entries, 0 to 139967\n",
            "Data columns (total 11 columns):\n",
            " #   Column            Non-Null Count   Dtype  \n",
            "---  ------            --------------   -----  \n",
            " 0   trend             139968 non-null  object \n",
            " 1   seasonal_periods  139968 non-null  object \n",
            " 2   smoothing_level   139968 non-null  float64\n",
            " 3   smoothing_slope   139968 non-null  float64\n",
            " 4   damping_slope     139968 non-null  float64\n",
            " 5   damped            139968 non-null  object \n",
            " 6   use_boxcox        139968 non-null  object \n",
            " 7   remove_bias       0 non-null       float64\n",
            " 8   use_basinhopping  139968 non-null  object \n",
            " 9   RMSE              139968 non-null  float64\n",
            " 10  r2                139968 non-null  float64\n",
            "dtypes: float64(6), object(5)\n",
            "memory usage: 11.7+ MB\n"
          ]
        }
      ]
    },
    {
      "cell_type": "code",
      "source": [
        "fit1 = ExponentialSmoothing(train,trend='mul', damped=False,seasonal_periods=3 ).fit(smoothing_level=0.9, \n",
        "                                    smoothing_slope=0.6, damping_slope = 0.6,use_boxcox=False,use_basinhopping = True,optimized=False)\n",
        "Forecast_custom_pred = fit1.forecast(30)\n",
        "fit1.summary()"
      ],
      "metadata": {
        "id": "LcVWDsBg70pG",
        "colab": {
          "base_uri": "https://localhost:8080/",
          "height": 551
        },
        "outputId": "d98f7049-4a0d-4b06-e13f-de76fae54ddd"
      },
      "execution_count": null,
      "outputs": [
        {
          "output_type": "stream",
          "name": "stderr",
          "text": [
            "/usr/local/lib/python3.7/dist-packages/ipykernel_launcher.py:1: FutureWarning: the 'damped'' keyword is deprecated, use 'damped_trend' instead\n",
            "  \"\"\"Entry point for launching an IPython kernel.\n",
            "/usr/local/lib/python3.7/dist-packages/statsmodels/tsa/holtwinters/model.py:429: FutureWarning: After 0.13 initialization must be handled at model creation\n",
            "  FutureWarning,\n",
            "/usr/local/lib/python3.7/dist-packages/ipykernel_launcher.py:2: FutureWarning: the 'smoothing_slope'' keyword is deprecated, use 'smoothing_trend' instead\n",
            "  \n",
            "/usr/local/lib/python3.7/dist-packages/pandas/util/_decorators.py:207: FutureWarning: the 'damping_slope'' keyword is deprecated, use 'damping_trend' instead\n",
            "  return func(*args, **kwargs)\n",
            "/usr/local/lib/python3.7/dist-packages/statsmodels/tsa/holtwinters/model.py:1116: FutureWarning: Setting use_boxcox during fit has been deprecated and will be removed after 0.13. It must be set during model initialization.\n",
            "  FutureWarning,\n",
            "/usr/local/lib/python3.7/dist-packages/statsmodels/tsa/holtwinters/model.py:1136: FutureWarning: use_basinhopping is deprecated. Set optimization method using 'method'. This option will be removed after 0.13 is released.\n",
            "  FutureWarning,\n"
          ]
        },
        {
          "output_type": "execute_result",
          "data": {
            "text/plain": [
              "<class 'statsmodels.iolib.summary.Summary'>\n",
              "\"\"\"\n",
              "                       ExponentialSmoothing Model Results                       \n",
              "================================================================================\n",
              "Dep. Variable:                     Temp   No. Observations:                 3620\n",
              "Model:             ExponentialSmoothing   SSE                          48869.187\n",
              "Optimized:                        False   AIC                           9429.676\n",
              "Trend:                   Multiplicative   BIC                           9454.453\n",
              "Seasonal:                          None   AICC                          9429.700\n",
              "Seasonal Periods:                  None   Date:                 Wed, 02 Nov 2022\n",
              "Box-Cox:                          False   Time:                         17:08:07\n",
              "Box-Cox Coeff.:                    None                                         \n",
              "==============================================================================\n",
              "                       coeff                 code              optimized      \n",
              "------------------------------------------------------------------------------\n",
              "smoothing_level            0.9000000                alpha                False\n",
              "smoothing_trend            0.6000000                 beta                False\n",
              "initial_level              21.700000                  l.0                False\n",
              "initial_trend              0.8709677                  b.0                False\n",
              "------------------------------------------------------------------------------\n",
              "\"\"\""
            ],
            "text/html": [
              "<table class=\"simpletable\">\n",
              "<caption>ExponentialSmoothing Model Results</caption>\n",
              "<tr>\n",
              "  <th>Dep. Variable:</th>            <td>Temp</td>         <th>  No. Observations:  </th>       <td>3620</td>      \n",
              "</tr>\n",
              "<tr>\n",
              "  <th>Model:</th>            <td>ExponentialSmoothing</td> <th>  SSE                </th>     <td>48869.187</td>   \n",
              "</tr>\n",
              "<tr>\n",
              "  <th>Optimized:</th>                <td>False</td>        <th>  AIC                </th>     <td>9429.676</td>    \n",
              "</tr>\n",
              "<tr>\n",
              "  <th>Trend:</th>               <td>Multiplicative</td>    <th>  BIC                </th>     <td>9454.453</td>    \n",
              "</tr>\n",
              "<tr>\n",
              "  <th>Seasonal:</th>                 <td>None</td>         <th>  AICC               </th>     <td>9429.700</td>    \n",
              "</tr>\n",
              "<tr>\n",
              "  <th>Seasonal Periods:</th>         <td>None</td>         <th>  Date:              </th> <td>Wed, 02 Nov 2022</td>\n",
              "</tr>\n",
              "<tr>\n",
              "  <th>Box-Cox:</th>                  <td>False</td>        <th>  Time:              </th>     <td>17:08:07</td>    \n",
              "</tr>\n",
              "<tr>\n",
              "  <th>Box-Cox Coeff.:</th>           <td>None</td>         <th>                     </th>         <td> </td>       \n",
              "</tr>\n",
              "</table>\n",
              "<table class=\"simpletable\">\n",
              "<tr>\n",
              "         <td></td>                 <th>coeff</th>                <th>code</th>               <th>optimized</th>     \n",
              "</tr>\n",
              "<tr>\n",
              "  <th>smoothing_level</th> <td>           0.9000000</td> <td>               alpha</td> <td>               False</td>\n",
              "</tr>\n",
              "<tr>\n",
              "  <th>smoothing_trend</th> <td>           0.6000000</td> <td>                beta</td> <td>               False</td>\n",
              "</tr>\n",
              "<tr>\n",
              "  <th>initial_level</th>   <td>           21.700000</td> <td>                 l.0</td> <td>               False</td>\n",
              "</tr>\n",
              "<tr>\n",
              "  <th>initial_trend</th>   <td>           0.8709677</td> <td>                 b.0</td> <td>               False</td>\n",
              "</tr>\n",
              "</table>"
            ]
          },
          "metadata": {},
          "execution_count": 10
        }
      ]
    },
    {
      "cell_type": "code",
      "source": [
        "timeseries_evaluation_metrics_func(test,Forecast_custom_pred)"
      ],
      "metadata": {
        "id": "UDs3s00m72DN",
        "colab": {
          "base_uri": "https://localhost:8080/"
        },
        "outputId": "0263d38c-20c9-4e51-95d8-d6d8ae93b37d"
      },
      "execution_count": null,
      "outputs": [
        {
          "output_type": "stream",
          "name": "stdout",
          "text": [
            "Evaluation metric results:-\n",
            "MSE is : 8.298078714439628\n",
            "MAE is : 2.1375825585605552\n",
            "RMSE is : 2.8806385949021145\n",
            "MAPE is : 12.848777544952977\n",
            "R2 is : -0.33431315969471\n",
            "\n"
          ]
        }
      ]
    },
    {
      "cell_type": "code",
      "source": [
        "# Fitting model with optimized =True\n",
        "fitESAUTO = ExponentialSmoothing(train).fit(optimized= True, use_brute = True)"
      ],
      "metadata": {
        "id": "nTPnZo5W73tu",
        "colab": {
          "base_uri": "https://localhost:8080/"
        },
        "outputId": "e9c2a2b0-7437-4ada-cbfb-dd62c1c02e5b"
      },
      "execution_count": null,
      "outputs": [
        {
          "output_type": "stream",
          "name": "stderr",
          "text": [
            "/usr/local/lib/python3.7/dist-packages/statsmodels/tsa/holtwinters/model.py:429: FutureWarning: After 0.13 initialization must be handled at model creation\n",
            "  FutureWarning,\n"
          ]
        }
      ]
    },
    {
      "cell_type": "code",
      "source": [
        "fitESAUTO.summary()"
      ],
      "metadata": {
        "id": "hutLfGLI75t2",
        "colab": {
          "base_uri": "https://localhost:8080/",
          "height": 270
        },
        "outputId": "53490353-10bb-4d8c-98f8-d08a7a8fb904"
      },
      "execution_count": null,
      "outputs": [
        {
          "output_type": "execute_result",
          "data": {
            "text/plain": [
              "<class 'statsmodels.iolib.summary.Summary'>\n",
              "\"\"\"\n",
              "                       ExponentialSmoothing Model Results                       \n",
              "================================================================================\n",
              "Dep. Variable:                     Temp   No. Observations:                 3620\n",
              "Model:             ExponentialSmoothing   SSE                          24743.476\n",
              "Optimized:                         True   AIC                           6961.958\n",
              "Trend:                             None   BIC                           6974.346\n",
              "Seasonal:                          None   AICC                          6961.969\n",
              "Seasonal Periods:                  None   Date:                 Wed, 02 Nov 2022\n",
              "Box-Cox:                          False   Time:                         17:08:21\n",
              "Box-Cox Coeff.:                    None                                         \n",
              "==============================================================================\n",
              "                       coeff                 code              optimized      \n",
              "------------------------------------------------------------------------------\n",
              "smoothing_level            0.4278515                alpha                 True\n",
              "initial_level              19.792784                  l.0                 True\n",
              "------------------------------------------------------------------------------\n",
              "\"\"\""
            ],
            "text/html": [
              "<table class=\"simpletable\">\n",
              "<caption>ExponentialSmoothing Model Results</caption>\n",
              "<tr>\n",
              "  <th>Dep. Variable:</th>            <td>Temp</td>         <th>  No. Observations:  </th>       <td>3620</td>      \n",
              "</tr>\n",
              "<tr>\n",
              "  <th>Model:</th>            <td>ExponentialSmoothing</td> <th>  SSE                </th>     <td>24743.476</td>   \n",
              "</tr>\n",
              "<tr>\n",
              "  <th>Optimized:</th>                <td>True</td>         <th>  AIC                </th>     <td>6961.958</td>    \n",
              "</tr>\n",
              "<tr>\n",
              "  <th>Trend:</th>                    <td>None</td>         <th>  BIC                </th>     <td>6974.346</td>    \n",
              "</tr>\n",
              "<tr>\n",
              "  <th>Seasonal:</th>                 <td>None</td>         <th>  AICC               </th>     <td>6961.969</td>    \n",
              "</tr>\n",
              "<tr>\n",
              "  <th>Seasonal Periods:</th>         <td>None</td>         <th>  Date:              </th> <td>Wed, 02 Nov 2022</td>\n",
              "</tr>\n",
              "<tr>\n",
              "  <th>Box-Cox:</th>                  <td>False</td>        <th>  Time:              </th>     <td>17:08:21</td>    \n",
              "</tr>\n",
              "<tr>\n",
              "  <th>Box-Cox Coeff.:</th>           <td>None</td>         <th>                     </th>         <td> </td>       \n",
              "</tr>\n",
              "</table>\n",
              "<table class=\"simpletable\">\n",
              "<tr>\n",
              "         <td></td>                 <th>coeff</th>                <th>code</th>               <th>optimized</th>     \n",
              "</tr>\n",
              "<tr>\n",
              "  <th>smoothing_level</th> <td>           0.4278515</td> <td>               alpha</td> <td>                True</td>\n",
              "</tr>\n",
              "<tr>\n",
              "  <th>initial_level</th>   <td>           19.792784</td> <td>                 l.0</td> <td>                True</td>\n",
              "</tr>\n",
              "</table>"
            ]
          },
          "metadata": {},
          "execution_count": 13
        }
      ]
    },
    {
      "cell_type": "code",
      "source": [
        "fitESAUTOpred = fitESAUTO.forecast(30)\n",
        "timeseries_evaluation_metrics_func(test,fitESAUTOpred)"
      ],
      "metadata": {
        "id": "4lHlXKcg77Vg",
        "colab": {
          "base_uri": "https://localhost:8080/"
        },
        "outputId": "87b265d1-11a1-4f2b-ce3d-d4e888f17910"
      },
      "execution_count": null,
      "outputs": [
        {
          "output_type": "stream",
          "name": "stdout",
          "text": [
            "Evaluation metric results:-\n",
            "MSE is : 7.669325907665781\n",
            "MAE is : 1.9104508260613078\n",
            "RMSE is : 2.7693547818338087\n",
            "MAPE is : 11.461680520423531\n",
            "R2 is : -0.23321106448157924\n",
            "\n"
          ]
        }
      ]
    },
    {
      "cell_type": "code",
      "source": [
        "import matplotlib.pyplot as plt\n",
        "get_ipython().run_line_magic('matplotlib', 'inline')\n",
        "plt.rcParams[\"figure.figsize\"] = [16,9]\n",
        "plt.plot( train, label='Train')\n",
        "plt.plot(test, label='Test')\n",
        "plt.plot(fitESAUTOpred, label='Automated grid search')\n",
        "plt.plot(Forecast_custom_pred, label='Triple Exponential Smoothing with custom grid search')\n",
        "plt.legend(loc='best')\n",
        "plt.show()"
      ],
      "metadata": {
        "id": "gmCZIN7y79m0",
        "colab": {
          "base_uri": "https://localhost:8080/",
          "height": 537
        },
        "outputId": "55e175d7-7294-4817-91ab-34838c2ec592"
      },
      "execution_count": null,
      "outputs": [
        {
          "output_type": "display_data",
          "data": {
            "text/plain": [
              "<Figure size 1152x648 with 1 Axes>"
            ],
            "image/png": "[encoded data removed]"
          },
          "metadata": {
            "needs_background": "light"
          }
        }
      ]
    }
  ]
}